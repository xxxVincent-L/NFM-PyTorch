{
 "cells": [
  {
   "cell_type": "code",
   "execution_count": 4,
   "metadata": {},
   "outputs": [],
   "source": [
    "import torch\n",
    "import torch.nn as nn\n",
    "import torch.optim as optim\n",
    "from torch.utils.data import DataLoader, Dataset\n",
    "import matplotlib.pyplot as plt\n",
    "import numpy as np\n",
    "import pandas as pd\n",
    "import math\n",
    "import time\n",
    "from sklearn.preprocessing import MinMaxScaler\n"
   ]
  },
  {
   "cell_type": "code",
   "execution_count": 5,
   "metadata": {},
   "outputs": [
    {
     "data": {
      "text/plain": [
       "<All keys matched successfully>"
      ]
     },
     "execution_count": 5,
     "metadata": {},
     "output_type": "execute_result"
    }
   ],
   "source": [
    "class FM(nn.Module):\n",
    "    def __init__(self, n, k):\n",
    "        super(FM, self).__init__()\n",
    "        self.n = n\n",
    "        self.k = k\n",
    "        self.Feature_Matrix = nn.Parameter(torch.randn(n, k), requires_grad=True)\n",
    "        self.linear = nn.Linear(n, 1)\n",
    "\n",
    "    def forward(self, x):\n",
    "        linear_Layer = self.linear(x)\n",
    "\n",
    "        p1 = torch.matmul(x, self.Feature_Matrix).pow(2)\n",
    "        p2 = torch.matmul(x.pow(2), self.Feature_Matrix.pow(2))\n",
    "\n",
    "        interaction_layer = 0.5 * (p1 - p2).sum(dim=1, keepdim=True)\n",
    "\n",
    "        return linear_Layer + interaction_layer\n",
    "\n",
    "model = FM(5,5)  \n",
    "model.load_state_dict(torch.load('./model/model_v2.pth'))"
   ]
  },
  {
   "cell_type": "code",
   "execution_count": 6,
   "metadata": {},
   "outputs": [],
   "source": [
    "class MovieLens(Dataset):\n",
    "    def __init__(self, feature, label=None):\n",
    "        self.feature = feature\n",
    "        self.label = label\n",
    "\n",
    "    def __len__(self):\n",
    "        return len(self.feature)\n",
    "\n",
    "    def __getitem__(self, idx):\n",
    "        x = self.feature[idx]\n",
    "        y = self.label[idx]\n",
    "        return x, y\n",
    "    \n",
    "def data_tensor(dataset):\n",
    "\n",
    "    # scaler = MinMaxScaler()\n",
    "\n",
    "    label = torch.tensor(dataset['rating'].values).float()\n",
    "    dataset.drop(columns=['rating'], inplace=True)\n",
    "    # features = scaler.fit_transform(dataset.values)\n",
    "    # features = torch.tensor(features).float()\n",
    "\n",
    "    features = torch.tensor(dataset.values).float()\n",
    "    # print(features,label)\n",
    "\n",
    "    return MovieLens(features, label)"
   ]
  },
  {
   "cell_type": "code",
   "execution_count": 7,
   "metadata": {},
   "outputs": [],
   "source": [
    "batch_size = 4096 # Needed to be modified!\n",
    "\n",
    "test_set_path = {\"initial\":'./data/test_set.csv',\n",
    "                \"full\": '',\n",
    "                \"sampled\":\"./data/bpr_sampled_test_set.csv\" }\n",
    "\n",
    "test_set = pd.read_csv(test_set_path['initial'], header=0)\n",
    "\n",
    "positive_test_set = test_set[test_set['rating']==1]\n",
    "\n",
    "# test_set = data_tensor(test_set)\n",
    "# test_dataloader = DataLoader(test_set, batch_size=batch_size, shuffle=True) \n"
   ]
  },
  {
   "cell_type": "code",
   "execution_count": 8,
   "metadata": {},
   "outputs": [],
   "source": [
    "device = torch.device(\"cuda\" if torch.cuda.is_available() else \"cpu\")\n",
    "\n",
    "K = 20\n",
    "def full_ranking(model, test_dataloader):\n",
    "    ranked_user_movies = []\n",
    "    model.eval()\n",
    "    for feature, label in test_dataloader:\n",
    "        feature, label = feature.to(device), label.to(device).unsqueeze(1)\n",
    "        with torch.no_grad():\n",
    "            movieId = feature[:,3] # to select the movieId\n",
    "            print(\"moviedId are: \", movieId)\n",
    "            print(\"num of the movies: \", len(movieId))\n",
    "            y_hat = model(feature.to(device))\n",
    "            print(\"score after predicting: \", y_hat)\n",
    "            y  = [i[0] for i in y_hat]\n",
    "            ranked_indices = np.argsort(y)[::-1]\n",
    "            print(\"ranked index: \",ranked_indices)\n",
    "\n",
    "            ranked_movie = [movieId[i] for i in ranked_indices][:K]\n",
    "            print(\"ranked movie id: \", ranked_movie)\n",
    "            # ranked_user_movies.append(ranked_movie)  \n",
    "    return ranked_movie"
   ]
  },
  {
   "cell_type": "code",
   "execution_count": 13,
   "metadata": {},
   "outputs": [],
   "source": [
    "def feature_load(user, movies_id):\n",
    "    user_features = pd.read_csv('./data/user_features.csv', header=0)\n",
    "    item_features = pd.read_csv('./data/item_features.csv', header=0)\n",
    "    \n",
    "    user_feature = user_features[user_features['userId']==user]\n",
    "    userId = int(user_feature['userId'])\n",
    "    age = int(user_feature['age'])\n",
    "    gender = int(user_feature['gender'])\n",
    "\n",
    "    filtered_item = item_features[item_features['movieId'].isin(movies_id)]\n",
    "    filtered_item.loc[:, 'userId'] = userId\n",
    "    filtered_item.loc[:, 'age'] = age\n",
    "    filtered_item.loc[:, 'gender'] = gender\n",
    "    filtered_item.loc[:, 'rating'] = 1\n",
    "\n",
    "    new_order = ['userId', 'age', 'gender', 'movieId', 'category','rating']\n",
    "    filtered_item = filtered_item[new_order]\n",
    "\n",
    "    return filtered_item\n",
    "        "
   ]
  },
  {
   "cell_type": "code",
   "execution_count": 19,
   "metadata": {},
   "outputs": [],
   "source": [
    "def recall(ranked_list, ground_truth):\n",
    "    return len(set(ranked_list) & set(ground_truth)), len(ground_truth), len(set(ranked_list) & set(ground_truth))/len(ground_truth)\n",
    "\n",
    "def ndcg(ranked_list, ground_truth):\n",
    "    dcg = 0.0\n",
    "    idcg = 0.0\n",
    "    for idx, movie in enumerate(ranked_list):\n",
    "        revised_idx = idx+1\n",
    "        if movie in ground_truth:\n",
    "            dcg += 1.0 / np.log2(revised_idx + 1)\n",
    "        idcg += 1.0 / np.log2(revised_idx + 1)\n",
    "    return dcg, idcg, dcg / idcg\n"
   ]
  },
  {
   "cell_type": "code",
   "execution_count": 24,
   "metadata": {},
   "outputs": [],
   "source": [
    "\n",
    "def evaluate(model, test_set):\n",
    "    users_id = test_set['userId'].unique()\n",
    "    movies_id = test_set['movieId'].unique()\n",
    "    total_numerator = 0\n",
    "    total_denominator = 0\n",
    "    total_dcg = 0\n",
    "    total_idcg= 0\n",
    "\n",
    "    for user in users_id:\n",
    "        user_data  = feature_load(user, movies_id)\n",
    "        user_data = data_tensor(user_data)\n",
    "        grouped_test_set = test_set.groupby('userId')\n",
    "        # print(user_data)\n",
    "\n",
    "        test_dataloader = DataLoader(user_data, batch_size=batch_size, shuffle=True) \n",
    "        ranked_list = full_ranking(model,test_dataloader)\n",
    "        ranked_list =  [int(tensor.item()) for tensor in ranked_list]\n",
    "        ground_truth = grouped_test_set.get_group(user)['movieId'].tolist()\n",
    "\n",
    "        numerator, denominator, user_recall = recall(ranked_list, ground_truth)\n",
    "        total_numerator+=numerator\n",
    "        total_denominator+=denominator        \n",
    "        dcg, idcg, user_ndcg = ndcg(ranked_list, ground_truth)\n",
    "        total_dcg+=dcg        \n",
    "        total_idcg+=idcg\n",
    "        print(\"recall of user \"+ str(user) + \" is :\" + str(user_recall))\n",
    "        print(\"ndcg of user \"+ str(user) + \" is :\" + str(user_ndcg))\n",
    "        break\n",
    "    \n"
   ]
  },
  {
   "cell_type": "code",
   "execution_count": 25,
   "metadata": {},
   "outputs": [
    {
     "name": "stdout",
     "output_type": "stream",
     "text": [
      "moviedId are:  tensor([1458., 1565.,  343.,  ...,   21.,  752., 3762.])\n",
      "num of the movies:  3064\n",
      "score after predicting:  tensor([[ 11446.4648],\n",
      "        [   193.2577],\n",
      "        [  8966.9082],\n",
      "        ...,\n",
      "        [   563.0009],\n",
      "        [ 14516.1348],\n",
      "        [112146.3984]])\n",
      "ranked index:  [1826 1869  202 ... 2748 2078 2921]\n",
      "ranked movie id:  [tensor(3877.), tensor(3867.), tensor(3864.), tensor(3787.), tensor(3779.), tensor(3765.), tensor(3737.), tensor(3808.), tensor(3793.), tensor(3723.), tensor(3729.), tensor(3728.), tensor(3711.), tensor(3710.), tensor(3659.), tensor(3727.), tensor(3613.), tensor(3612.), tensor(3617.), tensor(3601.)]\n",
      "======\n",
      "recall of user 0 is :0.0\n",
      "ndcg of user 0 is :0.0\n"
     ]
    },
    {
     "name": "stderr",
     "output_type": "stream",
     "text": [
      "/var/folders/_q/prj61rbn34xftt0_fw1w47sw0000gn/T/ipykernel_29584/3264674731.py:11: SettingWithCopyWarning: \n",
      "A value is trying to be set on a copy of a slice from a DataFrame.\n",
      "Try using .loc[row_indexer,col_indexer] = value instead\n",
      "\n",
      "See the caveats in the documentation: https://pandas.pydata.org/pandas-docs/stable/user_guide/indexing.html#returning-a-view-versus-a-copy\n",
      "  filtered_item.loc[:, 'userId'] = userId\n",
      "/var/folders/_q/prj61rbn34xftt0_fw1w47sw0000gn/T/ipykernel_29584/3264674731.py:12: SettingWithCopyWarning: \n",
      "A value is trying to be set on a copy of a slice from a DataFrame.\n",
      "Try using .loc[row_indexer,col_indexer] = value instead\n",
      "\n",
      "See the caveats in the documentation: https://pandas.pydata.org/pandas-docs/stable/user_guide/indexing.html#returning-a-view-versus-a-copy\n",
      "  filtered_item.loc[:, 'age'] = age\n",
      "/var/folders/_q/prj61rbn34xftt0_fw1w47sw0000gn/T/ipykernel_29584/3264674731.py:13: SettingWithCopyWarning: \n",
      "A value is trying to be set on a copy of a slice from a DataFrame.\n",
      "Try using .loc[row_indexer,col_indexer] = value instead\n",
      "\n",
      "See the caveats in the documentation: https://pandas.pydata.org/pandas-docs/stable/user_guide/indexing.html#returning-a-view-versus-a-copy\n",
      "  filtered_item.loc[:, 'gender'] = gender\n",
      "/var/folders/_q/prj61rbn34xftt0_fw1w47sw0000gn/T/ipykernel_29584/3264674731.py:14: SettingWithCopyWarning: \n",
      "A value is trying to be set on a copy of a slice from a DataFrame.\n",
      "Try using .loc[row_indexer,col_indexer] = value instead\n",
      "\n",
      "See the caveats in the documentation: https://pandas.pydata.org/pandas-docs/stable/user_guide/indexing.html#returning-a-view-versus-a-copy\n",
      "  filtered_item.loc[:, 'rating'] = 1\n"
     ]
    }
   ],
   "source": [
    "evaluate(model, positive_test_set)"
   ]
  }
 ],
 "metadata": {
  "kernelspec": {
   "display_name": "py3.8",
   "language": "python",
   "name": "python3"
  },
  "language_info": {
   "codemirror_mode": {
    "name": "ipython",
    "version": 3
   },
   "file_extension": ".py",
   "mimetype": "text/x-python",
   "name": "python",
   "nbconvert_exporter": "python",
   "pygments_lexer": "ipython3",
   "version": "3.8.16"
  },
  "orig_nbformat": 4
 },
 "nbformat": 4,
 "nbformat_minor": 2
}
