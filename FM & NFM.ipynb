{
 "cells": [
  {
   "cell_type": "code",
   "execution_count": 1,
   "metadata": {},
   "outputs": [],
   "source": [
    "import torch\n",
    "import torch.nn as nn\n",
    "import torch.optim as optim\n",
    "from torch.utils.data import DataLoader, Dataset\n",
    "import matplotlib.pyplot as plt\n",
    "import numpy as np\n",
    "import pandas as pd\n",
    "import tqdm\n",
    "import time\n",
    "import math\n",
    "\n",
    "from sklearn.metrics import roc_auc_score, mean_squared_error\n",
    "from sklearn.preprocessing import MinMaxScaler"
   ]
  },
  {
   "cell_type": "markdown",
   "metadata": {},
   "source": [
    "# Models\n",
    "\n",
    "* FM"
   ]
  },
  {
   "cell_type": "code",
   "execution_count": 2,
   "metadata": {},
   "outputs": [],
   "source": [
    "class FM(nn.Module):\n",
    "    def __init__(self, n, k):\n",
    "        super(FM, self).__init__()\n",
    "        self.n = n\n",
    "        self.k = k\n",
    "        self.Feature_Matrix = nn.Parameter(torch.randn(n, k), requires_grad=True)\n",
    "        self.linear = nn.Linear(n, 1)\n",
    "\n",
    "    def forward(self, x):\n",
    "        linear_Layer = self.linear(x)\n",
    "\n",
    "        p1 = torch.matmul(x, self.Feature_Matrix).pow(2)\n",
    "        p2 = torch.matmul(x.pow(2), self.Feature_Matrix.pow(2))\n",
    "\n",
    "        interaction_layer = 0.5 * (p1 - p2).sum(dim=1, keepdim=True)\n",
    "\n",
    "        return linear_Layer + interaction_layer\n",
    "        "
   ]
  },
  {
   "cell_type": "markdown",
   "metadata": {},
   "source": [
    "* BPR Loss"
   ]
  },
  {
   "cell_type": "code",
   "execution_count": 18,
   "metadata": {},
   "outputs": [],
   "source": [
    "def sigmoid(x):\n",
    "    return 1/(1+np.exp(-x))\n",
    "\n",
    "class BPRLoss():\n",
    "    def __init__(self):\n",
    "        super(BPRLoss, self).__init__()\n",
    "        self.item1 = item1\n",
    "        self.item2 = item2\n",
    "\n",
    "    def forward(self, item1, item2):\n",
    "        dist = item1 - item2\n",
    "        # Wait for the summation\n",
    "        return -np.log(sigmoid(dist))\n"
   ]
  },
  {
   "cell_type": "markdown",
   "metadata": {},
   "source": [
    "# Train"
   ]
  },
  {
   "cell_type": "code",
   "execution_count": 3,
   "metadata": {},
   "outputs": [],
   "source": [
    "# Data Preparation\n",
    "\n",
    "\n",
    "class MovieLens(Dataset):\n",
    "    def __init__(self, feature, label):\n",
    "        self.feature = feature\n",
    "        self.label = label\n",
    "\n",
    "    def __len__(self):\n",
    "        return len(self.feature)\n",
    "\n",
    "    def __getitem__(self, idx):\n",
    "        x = self.feature[idx]\n",
    "        y = self.label[idx]\n",
    "        return x, y\n",
    "    \n",
    "def data_tensor(dataset):\n",
    "\n",
    "    scaler = MinMaxScaler()\n",
    "\n",
    "    # label = torch.tensor(dataset['rating'].values, dtype=torch.float32)\n",
    "    # dataset.drop(columns=['timestamps','rating'], inplace=True)\n",
    "    # features = torch.tensor(dataset.values, dtype=torch.float32)\n",
    "    \n",
    "    label = torch.tensor(dataset['rating'].values).float()\n",
    "    dataset.drop(columns=['timestamps','rating'], inplace=True)\n",
    "    features = scaler.fit_transform(dataset.values)\n",
    "    features = torch.tensor(features).float()\n",
    "\n",
    "\n",
    "    return MovieLens(features, label)"
   ]
  },
  {
   "cell_type": "code",
   "execution_count": 10,
   "metadata": {},
   "outputs": [],
   "source": [
    "batch_size = 1024\n",
    "\n",
    "train_set = pd.read_csv(\"./data/train_set.csv\", header=0)\n",
    "val_set = pd.read_csv(\"./data/val_set.csv\", header=0)\n",
    "test_set = pd.read_csv(\"./data/test_set.csv\", header=0)\n",
    "\n",
    "train_set = data_tensor(train_set)\n",
    "val_set = data_tensor(val_set)\n",
    "test_set = data_tensor(test_set)\n",
    "\n",
    "train_dataloader = DataLoader(train_set, batch_size=batch_size, shuffle=True)\n",
    "val_dataloader = DataLoader(val_set, batch_size=batch_size, shuffle=True)\n",
    "test_dataloader = DataLoader(test_set, batch_size=batch_size, shuffle=True) "
   ]
  },
  {
   "cell_type": "code",
   "execution_count": 11,
   "metadata": {},
   "outputs": [],
   "source": [
    "device = torch.device(\"cuda\" if torch.cuda.is_available() else \"cpu\")\n",
    "\n",
    "def train(model, dataloader, optimizer, criterion):\n",
    "    train_loss = 0\n",
    "    model.train()\n",
    "    for feature, label in dataloader:\n",
    "        feature, label = feature.to(device), label.to(device).unsqueeze(1)\n",
    "        # print(\"=======\")\n",
    "        # print(\"feature = \", feature)\n",
    "        optimizer.zero_grad()\n",
    "        y_hat = model(feature)\n",
    "        loss = criterion(y_hat, label)\n",
    "        train_loss += loss.item() * feature.shape[0]\n",
    "        # print(\"loss = \", loss)\n",
    "\n",
    "        loss.backward()\n",
    "        optimizer.step()\n",
    "\n",
    "    # print(\"LOSS = \", train_loss)\n",
    "\n",
    "    return train_loss / len(dataloader.dataset)\n"
   ]
  },
  {
   "cell_type": "code",
   "execution_count": 12,
   "metadata": {},
   "outputs": [],
   "source": [
    "def validation(model, dataloader, criterion):\n",
    "    val_loss = 0\n",
    "    model.eval()\n",
    "    for feature, label in dataloader:\n",
    "        feature, label = feature.to(device), label.to(device).unsqueeze(1)\n",
    "        with torch.no_grad():\n",
    "            y_hat = model(feature.to(device))\n",
    "        loss = criterion(y_hat, label)\n",
    "        val_loss += loss.item() * feature.shape[0]\n",
    "\n",
    "    return val_loss / len(dataloader.dataset)"
   ]
  },
  {
   "cell_type": "code",
   "execution_count": 13,
   "metadata": {},
   "outputs": [
    {
     "name": "stdout",
     "output_type": "stream",
     "text": [
      "epoch 0\n",
      "\ttrain loss: 1.5939\n",
      "\tvalidation loss: 0.7352\n",
      "epoch 1\n",
      "\ttrain loss: 0.6125\n",
      "\tvalidation loss: 0.5467\n",
      "epoch 2\n",
      "\ttrain loss: 0.5175\n",
      "\tvalidation loss: 0.5170\n",
      "epoch 3\n",
      "\ttrain loss: 0.5047\n",
      "\tvalidation loss: 0.5105\n",
      "epoch 4\n",
      "\ttrain loss: 0.4992\n",
      "\tvalidation loss: 0.5064\n",
      "epoch 5\n",
      "\ttrain loss: 0.4957\n",
      "\tvalidation loss: 0.5054\n",
      "epoch 6\n",
      "\ttrain loss: 0.4938\n",
      "\tvalidation loss: 0.5038\n",
      "epoch 7\n",
      "\ttrain loss: 0.4928\n",
      "\tvalidation loss: 0.5024\n",
      "epoch 8\n",
      "\ttrain loss: 0.4924\n",
      "\tvalidation loss: 0.5028\n",
      "epoch 9\n",
      "\ttrain loss: 0.4923\n",
      "\tvalidation loss: 0.5031\n"
     ]
    }
   ],
   "source": [
    "model = FM(5,5)\n",
    "wd=1e-5\n",
    "lr=1e-3\n",
    "epochs=10\n",
    "\n",
    "optimizer = optim.Adam(model.parameters(), lr=lr, weight_decay=wd)\n",
    "scheduler = optim.lr_scheduler.MultiStepLR(optimizer, milestones=[8], gamma=0.1)\n",
    "criterion = nn.MSELoss().to(device)\n",
    "\n",
    "train_loss_list = []\n",
    "val_loss_list = []\n",
    "\n",
    "for epoch in range(epochs):\n",
    "\n",
    "    train_loss = train(model, train_dataloader, optimizer, criterion)\n",
    "    val_loss = validation(model, val_dataloader, criterion)\n",
    "    scheduler.step()\n",
    "\n",
    "    sqrt_train_loss = (math.sqrt(train_loss))\n",
    "    sqrt_val_loss = (math.sqrt(val_loss))\n",
    "    \n",
    "    print(f'epoch {epoch}')\n",
    "    print(f'\\ttrain loss: {sqrt_train_loss:.4f}')\n",
    "    print(f'\\tvalidation loss: {sqrt_val_loss:.4f}')\n",
    "    \n",
    "    train_loss_list.append(sqrt_train_loss)\n",
    "    val_loss_list.append(sqrt_val_loss)\n"
   ]
  },
  {
   "cell_type": "code",
   "execution_count": 16,
   "metadata": {},
   "outputs": [
    {
     "data": {
      "image/png": "[encoded data removed]",
      "text/plain": [
       "<Figure size 640x480 with 2 Axes>"
      ]
     },
     "metadata": {},
     "output_type": "display_data"
    }
   ],
   "source": [
    "\n",
    "#plot 1:\n",
    "plt.subplot(1, 2, 1)\n",
    "plt.plot(range(1, epochs+1), train_loss_list)\n",
    "plt.xlabel('Epoch')\n",
    "plt.ylabel('Loss')\n",
    "plt.title('Training')\n",
    "\n",
    "#plot 2:\n",
    "plt.subplot(1, 2, 2)\n",
    "plt.plot(range(1, epochs+1), val_loss_list)\n",
    "plt.xlabel('Epoch')\n",
    "plt.ylabel('Loss')\n",
    "plt.title('Validation')\n",
    "\n",
    "plt.show()\n",
    "# plt.savefig('image.png')"
   ]
  },
  {
   "cell_type": "code",
   "execution_count": 15,
   "metadata": {},
   "outputs": [],
   "source": [
    "torch.save(model.state_dict(), './model/model_v1.pth')"
   ]
  }
 ],
 "metadata": {
  "kernelspec": {
   "display_name": "py3.8",
   "language": "python",
   "name": "python3"
  },
  "language_info": {
   "codemirror_mode": {
    "name": "ipython",
    "version": 3
   },
   "file_extension": ".py",
   "mimetype": "text/x-python",
   "name": "python",
   "nbconvert_exporter": "python",
   "pygments_lexer": "ipython3",
   "version": "3.8.16"
  },
  "orig_nbformat": 4
 },
 "nbformat": 4,
 "nbformat_minor": 2
}
