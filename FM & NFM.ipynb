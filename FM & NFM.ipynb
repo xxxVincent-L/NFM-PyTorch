{
 "cells": [
  {
   "cell_type": "code",
   "execution_count": 1,
   "metadata": {},
   "outputs": [],
   "source": [
    "import torch\n",
    "import torch.nn as nn\n",
    "import torch.optim as optim\n",
    "from torch.utils.data import DataLoader, Dataset\n",
    "import matplotlib.pyplot as plt\n",
    "import numpy as np\n",
    "import pandas as pd\n",
    "import math\n",
    "import time\n",
    "from sklearn.preprocessing import MinMaxScaler"
   ]
  },
  {
   "cell_type": "markdown",
   "metadata": {},
   "source": [
    "# Models\n",
    "\n",
    "* FM"
   ]
  },
  {
   "cell_type": "code",
   "execution_count": 2,
   "metadata": {},
   "outputs": [],
   "source": [
    "class FM(nn.Module):\n",
    "    def __init__(self, n, k):\n",
    "        super(FM, self).__init__()\n",
    "        self.n = n\n",
    "        self.k = k\n",
    "        self.Feature_Matrix = nn.Parameter(torch.randn(n, k), requires_grad=True)\n",
    "        self.linear = nn.Linear(n, 1)\n",
    "\n",
    "    def forward(self, x):\n",
    "        linear_Layer = self.linear(x)\n",
    "\n",
    "        p1 = torch.matmul(x, self.Feature_Matrix).pow(2)\n",
    "        p2 = torch.matmul(x.pow(2), self.Feature_Matrix.pow(2))\n",
    "\n",
    "        interaction_layer = 0.5 * (p1 - p2).sum(dim=1, keepdim=True)\n",
    "\n",
    "        return linear_Layer + interaction_layer\n",
    "        "
   ]
  },
  {
   "cell_type": "markdown",
   "metadata": {},
   "source": [
    "* BPR Loss"
   ]
  },
  {
   "cell_type": "code",
   "execution_count": 13,
   "metadata": {},
   "outputs": [],
   "source": [
    "def sigmoid(x):\n",
    "    return 1 / (1 + torch.exp(-x))\n",
    "\n",
    "class BPRLoss(nn.Module):\n",
    "    def __init__(self, item1 = None, item2 = None):\n",
    "        super(BPRLoss, self).__init__()\n",
    "        self.item1 = item1\n",
    "        self.item2 = item2\n",
    "\n",
    "    def forward(self, item1, item2):\n",
    "        dist = item1 - item2\n",
    "        # Wait for the summation: Where?\n",
    "        return -torch.sum(torch.log(sigmoid(dist)))\n"
   ]
  },
  {
   "cell_type": "markdown",
   "metadata": {},
   "source": [
    "# Train"
   ]
  },
  {
   "cell_type": "code",
   "execution_count": 4,
   "metadata": {},
   "outputs": [],
   "source": [
    "class MovieLens(Dataset):\n",
    "    def __init__(self, pair1, pair2):\n",
    "        self.pair1 = pair1\n",
    "        self.pair2 = pair2\n",
    "\n",
    "    def __len__(self):\n",
    "        return len(self.pair1)\n",
    "\n",
    "    def __getitem__(self, idx):\n",
    "        p1 = self.pair1[idx]\n",
    "        p2 = self.pair2[idx]\n",
    "        return p1, p2\n",
    "\n",
    "\n",
    "def data_tensor(dataset):\n",
    "    scaler = MinMaxScaler()\n",
    "\n",
    "    user_feature = dataset.iloc[:,0:3]\n",
    "    movie1_feature = dataset.iloc[:,3:5]\n",
    "    movie2_feature = dataset.iloc[:,5:7]\n",
    "    \n",
    "    positive = user_feature.join(movie1_feature)\n",
    "    negative = user_feature.join(movie2_feature)\n",
    "\n",
    "    # positive = torch.tensor(positive.values).float()\n",
    "    # negative = torch.tensor(negative.values).float()\n",
    "\n",
    "    positive = scaler.fit_transform(positive.values)\n",
    "    positive = torch.tensor(positive).float()\n",
    "\n",
    "    negative = scaler.fit_transform(negative.values)\n",
    "    negative = torch.tensor(negative).float()\n",
    "\n",
    "    return MovieLens(positive, negative)\n",
    "\n",
    "def make_pair():\n",
    "    pass"
   ]
  },
  {
   "cell_type": "code",
   "execution_count": 5,
   "metadata": {},
   "outputs": [],
   "source": [
    "batch_size = 1024\n",
    "\n",
    "train_set_path = {\"full\": '',\n",
    "                \"sampled\":\"./data/bpr_sampled_train_set.csv\" }\n",
    "val_set_path = {\"full\": '',\n",
    "                \"sampled\":\"./data/bpr_sampled_val_set.csv\" }\n",
    "test_set_path = {\"full\": '',\n",
    "                \"sampled\":\"./data/bpr_sampled_test_set.csv\" }\n",
    "\n",
    "# train_set = pd.read_csv(train_set_path['sampled'], header=0)\n",
    "val_set = pd.read_csv(val_set_path['sampled'], header=0)\n",
    "# test_set = pd.read_csv(test_set_path['sampled'], header=0)\n",
    "\n",
    "# train_set = data_tensor(train_set)\n",
    "val_set = data_tensor(val_set)\n",
    "# test_set = data_tensor(test_set)\n",
    "\n",
    "# train_dataloader = DataLoader(train_set, batch_size=batch_size, shuffle=True)\n",
    "val_dataloader = DataLoader(val_set, batch_size=batch_size, shuffle=True)\n",
    "# test_dataloader = DataLoader(test_set, batch_size=batch_size, shuffle=True) "
   ]
  },
  {
   "cell_type": "code",
   "execution_count": 23,
   "metadata": {},
   "outputs": [],
   "source": [
    "device = torch.device(\"cuda\" if torch.cuda.is_available() else \"cpu\")\n",
    "\n",
    "def train(model, dataloader, optimizer, criterion):\n",
    "    train_loss = 0\n",
    "    i = 0\n",
    "    model.train()\n",
    "    for pair1, pair2 in dataloader:\n",
    "\n",
    "        pair1, pair2 = pair1.to(device), pair2.to(device)\n",
    "        # print(\"=======\")\n",
    "        # print(\"feature = \", feature)\n",
    "        optimizer.zero_grad()\n",
    "\n",
    "        # BPR -> Label is usde to separate dataset.\n",
    "        score1, score2 = model(pair1), model(pair2)\n",
    "        # print(\"s1 = \", score1, \", s2 = \", score2)\n",
    "        loss = criterion(score1, score2)\n",
    "        # THis one should be considered!!\n",
    "        train_loss += loss.item()\n",
    "        # print(\"loss = \", loss)\n",
    "\n",
    "        loss.backward()\n",
    "        optimizer.step()\n",
    "\n",
    "    # print(\"LOSS = \", train_loss)\n",
    "\n",
    "    return train_loss / len(dataloader.dataset)\n"
   ]
  },
  {
   "cell_type": "code",
   "execution_count": 7,
   "metadata": {},
   "outputs": [],
   "source": [
    "# Unchange yet\n",
    "\n",
    "def validation(model, dataloader, criterion):\n",
    "    val_loss = 0\n",
    "    model.eval()\n",
    "    for feature, label in dataloader:\n",
    "        feature, label = feature.to(device), label.to(device).unsqueeze(1)\n",
    "        with torch.no_grad():\n",
    "            y_hat = model(feature.to(device))\n",
    "        loss = criterion(y_hat, label)\n",
    "        val_loss += loss.item() * feature.shape[0]\n",
    "\n",
    "    return val_loss / len(dataloader.dataset)"
   ]
  },
  {
   "cell_type": "code",
   "execution_count": 24,
   "metadata": {},
   "outputs": [
    {
     "name": "stdout",
     "output_type": "stream",
     "text": [
      "epoch 0:\n",
      "\ttrain loss: 0.7000\n",
      "epoch 1:\n",
      "\ttrain loss: 0.6925\n",
      "epoch 2:\n",
      "\ttrain loss: 0.6920\n",
      "epoch 3:\n",
      "\ttrain loss: 0.6919\n",
      "epoch 4:\n",
      "\ttrain loss: 0.6919\n",
      "epoch 5:\n",
      "\ttrain loss: 0.6918\n",
      "epoch 6:\n",
      "\ttrain loss: 0.6918\n",
      "epoch 7:\n",
      "\ttrain loss: 0.6917\n",
      "epoch 8:\n",
      "\ttrain loss: 0.6916\n",
      "epoch 9:\n",
      "\ttrain loss: 0.6916\n"
     ]
    }
   ],
   "source": [
    "model = FM(5,5)\n",
    "wd=1e-5\n",
    "lr=1e-3\n",
    "epochs=10\n",
    "\n",
    "optimizer = optim.SGD(model.parameters(), lr=lr, weight_decay=wd)\n",
    "scheduler = optim.lr_scheduler.MultiStepLR(optimizer, milestones=[8], gamma=0.1)\n",
    "criterion = BPRLoss()\n",
    "\n",
    "train_loss_list = []\n",
    "val_loss_list = []\n",
    "\n",
    "for epoch in range(epochs):\n",
    "\n",
    "    train_loss = train(model, val_dataloader, optimizer, criterion) # I change this place cuz I have only val set.\n",
    "    # val_loss = validation(model, val_dataloader, criterion)\n",
    "    scheduler.step()\n",
    "\n",
    "    # sqrt_train_loss = (math.sqrt(train_loss))\n",
    "    # sqrt_val_loss = (math.sqrt(val_loss))\n",
    "    \n",
    "    print(f'epoch {epoch}:')\n",
    "    print(f'\\ttrain loss: {train_loss:.4f}')\n",
    "    # print(f'\\tvalidation loss: {val_loss:.4f}')\n",
    "    \n",
    "    train_loss_list.append(train_loss)\n",
    "    # val_loss_list.append(val_loss)\n"
   ]
  },
  {
   "cell_type": "code",
   "execution_count": 25,
   "metadata": {},
   "outputs": [
    {
     "data": {
      "image/png": "[encoded data removed]",
      "text/plain": [
       "<Figure size 640x480 with 1 Axes>"
      ]
     },
     "metadata": {},
     "output_type": "display_data"
    }
   ],
   "source": [
    "\n",
    "#plot 1:\n",
    "plt.subplot(1, 2, 1)\n",
    "plt.plot(range(1, epochs+1), train_loss_list)\n",
    "plt.xlabel('Epoch')\n",
    "plt.ylabel('Loss')\n",
    "plt.title('Training')\n",
    "\n",
    "#plot 2:\n",
    "# plt.subplot(1, 2, 2)\n",
    "# plt.plot(range(1, epochs+1), val_loss_list)\n",
    "# plt.xlabel('Epoch')\n",
    "# plt.ylabel('Loss')\n",
    "# plt.title('Validation')\n",
    "\n",
    "plt.show()\n",
    "# plt.savefig('image.png')"
   ]
  },
  {
   "cell_type": "code",
   "execution_count": 26,
   "metadata": {},
   "outputs": [],
   "source": [
    "torch.save(model.state_dict(), './model/model_v2.pth')\n"
   ]
  }
 ],
 "metadata": {
  "kernelspec": {
   "display_name": "py3.8",
   "language": "python",
   "name": "python3"
  },
  "language_info": {
   "codemirror_mode": {
    "name": "ipython",
    "version": 3
   },
   "file_extension": ".py",
   "mimetype": "text/x-python",
   "name": "python",
   "nbconvert_exporter": "python",
   "pygments_lexer": "ipython3",
   "version": "3.8.16"
  },
  "orig_nbformat": 4
 },
 "nbformat": 4,
 "nbformat_minor": 2
}
