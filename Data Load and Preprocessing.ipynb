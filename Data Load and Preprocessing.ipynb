{
 "cells": [
  {
   "cell_type": "code",
   "execution_count": null,
   "metadata": {},
   "outputs": [],
   "source": [
    "import numpy as np\n",
    "import torch\n",
    "import pandas as pd\n",
    "from sklearn.model_selection import train_test_split\n",
    "from sklearn.preprocessing import MinMaxScaler\n",
    "from torch.utils.data import Dataset"
   ]
  },
  {
   "cell_type": "markdown",
   "metadata": {},
   "source": [
    "# Data Load"
   ]
  },
  {
   "cell_type": "code",
   "execution_count": null,
   "metadata": {},
   "outputs": [],
   "source": [
    "# Load Data\n",
    "user_data = pd.read_csv('./ml-1m/users.dat',sep='::', header=None, \n",
    "names=['userId', 'gender' ,'age','occupation', 'zipcode'], engine='python')\n",
    "\n",
    "movie_data = pd.read_csv('./ml-1m/movies.dat', sep='::',\n",
    "names=['movieId','title','category'], encoding='latin-1',engine='python')\n",
    "\n",
    "ratings=pd.read_csv('ml-1m/ratings.dat',sep='::', names=['userId','movieId','rating','timestamps'],engine='python')"
   ]
  },
  {
   "cell_type": "code",
   "execution_count": null,
   "metadata": {},
   "outputs": [],
   "source": [
    "# For User\n",
    "\n",
    "user_data.drop(columns = ['occupation', 'zipcode'], inplace=True)\n",
    "\n",
    "user_data['userId'] = user_data['userId'].astype('category').cat.codes\n",
    "user_data['gender'] = user_data['gender'].astype('category').cat.codes\n",
    "user_data['age'] = user_data['age'].astype('category').cat.codes\n",
    "\n",
    "print(user_data)"
   ]
  },
  {
   "cell_type": "code",
   "execution_count": null,
   "metadata": {},
   "outputs": [],
   "source": [
    "# For Movie\n",
    "\n",
    "movie_data.drop(columns = ['title'], inplace=True)\n",
    "movie_data['movieId'] = movie_data['movieId'].astype('category').cat.codes\n",
    "movie_data['category'] = movie_data['category'].astype('category').cat.codes\n",
    "\n",
    "print(movie_data)"
   ]
  },
  {
   "cell_type": "code",
   "execution_count": null,
   "metadata": {},
   "outputs": [],
   "source": [
    "# For Rating\n",
    "ratings['userId'] = ratings['userId'] -1\n",
    "ratings['movieId'] = ratings['movieId'] -1\n",
    "\n",
    "ratings=ratings.join(movie_data.set_index('movieId'),on='movieId')\n",
    "ratings=ratings.join(user_data.set_index('userId'), on='userId')\n",
    "\n",
    "ratings.loc[ratings['rating'] <= 3, 'rating'] = 0\n",
    "ratings.loc[ratings['rating'] > 3, 'rating'] = 1\n",
    "\n",
    "print(ratings[:10])"
   ]
  },
  {
   "cell_type": "code",
   "execution_count": null,
   "metadata": {},
   "outputs": [],
   "source": [
    "# For feature preparation\n",
    "\n",
    "features_sizes = {\n",
    "    'userId':len(ratings['userId'].unique()),\n",
    "    'movieId':len(ratings['movieId'].unique()),\n",
    "    'category':len(ratings['category'].unique()),\n",
    "    'gender':len(ratings['gender'].unique()),\n",
    "    'age':len(ratings['age'].unique()),\n",
    "}\n",
    "\n",
    "offset = 0\n",
    "features_offsets={}\n",
    "for k,v in features_sizes.items():\n",
    "    features_offsets[k] = offset\n",
    "    next_offset += v"
   ]
  },
  {
   "cell_type": "code",
   "execution_count": null,
   "metadata": {},
   "outputs": [],
   "source": [
    "feature_columns = ['userId','movieId','category', 'gender', 'age']\n",
    "for column in feature_columns:\n",
    "    ratings[column] = ratings[column].apply(lambda c: c + features_offsets[column])\n",
    "ratings.head(5)\n",
    "print(ratings.max()) # To check out the embedding size"
   ]
  },
  {
   "cell_type": "code",
   "execution_count": null,
   "metadata": {},
   "outputs": [],
   "source": [
    "# Seperate train\\val\\test set.\n",
    "\n",
    "train_set, val_set, test_set = [], [], []\n",
    "\n",
    "ratings.sort_values(by=['userId', 'timestamps'], inplace=True)\n",
    "# ratings.drop(columns = 'timestamps', inplace = True)\n",
    "\n",
    "for user_id in ratings['userId'].unique():\n",
    "    user_datas = ratings[ratings['userId'] == user_id]\n",
    "    # Nothing Change : (\n",
    "    # train, temp = train_test_split(user_data, train_size=0.8, random_state=10)\n",
    "    # val, test = train_test_split(temp, train_size=0.5, random_state=10)\n",
    "    \n",
    "    total_records = len(user_datas)\n",
    "    train_end = int(total_records * 0.8)\n",
    "    val_end = int(total_records * 0.9)\n",
    "    train_set.append(user_datas[:train_end])\n",
    "    val_set.append(user_datas[train_end:val_end])\n",
    "    test_set.append(user_datas[val_end:])\n",
    "    \n",
    "train_set = pd.concat(train_set)\n",
    "val_set = pd.concat(val_set)\n",
    "test_set = pd.concat(test_set)\n",
    "print(len(train_set), len(test_set), len(val_set))\n",
    "\n",
    "train_set = train_set.dropna()\n",
    "val_set = val_set.dropna()\n",
    "test_set = test_set.dropna()\n",
    "\n",
    "print(len(train_set), len(test_set), len(val_set))\n",
    "\n"
   ]
  },
  {
   "cell_type": "code",
   "execution_count": null,
   "metadata": {},
   "outputs": [],
   "source": [
    "# BPRLoss Data Preparation\n",
    "\n",
    "def polarity_separation(dataset):\n",
    "\n",
    "    bpr_data = pd.DataFrame(columns=['userId','gender','age', 'movie1Id','category1','movie2Id','category2'])\n",
    "    grouped_dataset = dataset.groupby('userId')\n",
    "\n",
    "    for idx, data in grouped_dataset:\n",
    "        y = data['rating'].tolist()\n",
    "        selected_row = dataset[dataset['userId'] == idx]\n",
    "        gender = selected_row['gender'].values[0]\n",
    "        age = selected_row['age'].values[0]\n",
    "\n",
    "        i, j, end = 0, 1, len(y)\n",
    "        threshold = 3 if end > 3 else end\n",
    "        while i < end:\n",
    "            j = 0\n",
    "            if y[i] == 1:\n",
    "                while j < threshold:\n",
    "                    if y[j] == 0:\n",
    "\n",
    "                        temp_entry = pd.DataFrame({\n",
    "                                    'userId': [idx],\n",
    "                                    'gender': [gender],\n",
    "                                    'age': [age],\n",
    "                                    'movie1Id': [selected_row['movieId'].values[i]],\n",
    "                                    'category1': [selected_row['category'].values[i]],\n",
    "                                    'movie2Id': [selected_row['movieId'].values[j]],\n",
    "                                    'category2': [selected_row['category'].values[j]]\n",
    "                                    })\n",
    "\n",
    "                        bpr_data = pd.concat([bpr_data, temp_entry], ignore_index=True)\n",
    "                    j = j + 1\n",
    "            i = i + 1\n",
    "        print(\"index = \", idx)\n",
    "    return bpr_data"
   ]
  },
  {
   "cell_type": "code",
   "execution_count": null,
   "metadata": {},
   "outputs": [],
   "source": [
    "bpr_train_set = polarity_separation(train_set)\n",
    "bpr_val_set = polarity_separation(val_set)\n",
    "# bpr_test_set = polarity_separation(test_set)"
   ]
  },
  {
   "cell_type": "code",
   "execution_count": null,
   "metadata": {},
   "outputs": [],
   "source": [
    "# Save Data\n",
    "bpr_val_set.to_csv('./data/revised_bpr_sampled_val_set.csv', index=False)\n",
    "bpr_train_set.to_csv('./data/revised_bpr_sampled_train_set.csv', index=False)\n",
    "# bpr_test_set.to_csv('./data/bpr_sampled_test_set.csv', index=False)\n",
    "\n",
    "user_unique_feature= ratings[['userId', 'gender','age']].drop_duplicates()\n",
    "movie_unique_feature= ratings[['movieId', 'category']].drop_duplicates()\n",
    "user_unique_feature.to_csv('./data/revised_user_features.csv', index=False)  \n",
    "movie_unique_feature.to_csv('./data/revised_item_features.csv', index=False)  \n",
    "\n",
    "train_set.to_csv('./data/revised_train_set.csv', index=False)  \n",
    "val_set.to_csv('./data/revised_val_set.csv', index=False)  \n",
    "test_set.to_csv('./data/revised_test_set.csv', index=False)  "
   ]
  }
 ],
 "metadata": {
  "kernelspec": {
   "display_name": "py3.8",
   "language": "python",
   "name": "python3"
  },
  "language_info": {
   "codemirror_mode": {
    "name": "ipython",
    "version": 3
   },
   "file_extension": ".py",
   "mimetype": "text/x-python",
   "name": "python",
   "nbconvert_exporter": "python",
   "pygments_lexer": "ipython3",
   "version": "3.8.16"
  },
  "orig_nbformat": 4
 },
 "nbformat": 4,
 "nbformat_minor": 2
}
