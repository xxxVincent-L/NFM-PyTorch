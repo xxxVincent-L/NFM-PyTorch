{
 "cells": [
  {
   "cell_type": "code",
   "execution_count": 1,
   "metadata": {},
   "outputs": [],
   "source": [
    "import numpy as np\n",
    "import csv\n",
    "import pandas as pd\n",
    "from sklearn.model_selection import train_test_split"
   ]
  },
  {
   "cell_type": "markdown",
   "metadata": {},
   "source": [
    "# Data Load"
   ]
  },
  {
   "cell_type": "code",
   "execution_count": 2,
   "metadata": {},
   "outputs": [],
   "source": [
    "# Load Data\n",
    "user_data = pd.read_csv('./ml-1m/users.dat',sep='::', header=None, \n",
    "names=['userId', 'gender' ,'age','occupation', 'zipcode'], engine='python')\n",
    "\n",
    "movie_data = pd.read_csv('./ml-1m/movies.dat', sep='::',\n",
    "names=['movieId','title','category'], encoding='latin-1',engine='python')\n",
    "\n",
    "ratings=pd.read_csv('ml-1m/ratings.dat',sep='::', names=['userId','movieId','rating','timestamps'],engine='python')"
   ]
  },
  {
   "cell_type": "code",
   "execution_count": 3,
   "metadata": {},
   "outputs": [
    {
     "name": "stdout",
     "output_type": "stream",
     "text": [
      "      userId  gender  age\n",
      "0          0       0    0\n",
      "1          1       1    6\n",
      "2          2       1    2\n",
      "3          3       1    4\n",
      "4          4       1    2\n",
      "...      ...     ...  ...\n",
      "6035    6035       0    2\n",
      "6036    6036       0    4\n",
      "6037    6037       0    6\n",
      "6038    6038       0    4\n",
      "6039    6039       1    2\n",
      "\n",
      "[6040 rows x 3 columns]\n"
     ]
    }
   ],
   "source": [
    "# For User\n",
    "\n",
    "user_data.drop(columns = ['occupation', 'zipcode'], inplace=True)\n",
    "\n",
    "user_data['userId'] = user_data['userId'].astype('category').cat.codes\n",
    "user_data['gender'] = user_data['gender'].astype('category').cat.codes\n",
    "user_data['age'] = user_data['age'].astype('category').cat.codes\n",
    "\n",
    "print(user_data)"
   ]
  },
  {
   "cell_type": "code",
   "execution_count": 4,
   "metadata": {},
   "outputs": [
    {
     "name": "stdout",
     "output_type": "stream",
     "text": [
      "      movieId  category\n",
      "0           0       145\n",
      "1           1       115\n",
      "2           2       207\n",
      "3           3       185\n",
      "4           4       176\n",
      "...       ...       ...\n",
      "3878     3878       176\n",
      "3879     3879       239\n",
      "3880     3880       239\n",
      "3881     3881       239\n",
      "3882     3882       260\n",
      "\n",
      "[3883 rows x 2 columns]\n"
     ]
    }
   ],
   "source": [
    "# For Movie\n",
    "\n",
    "movie_data.drop(columns = ['title'], inplace=True)\n",
    "movie_data['movieId'] = movie_data['movieId'].astype('category').cat.codes\n",
    "movie_data['category'] = movie_data['category'].astype('category').cat.codes\n",
    "\n",
    "print(movie_data)"
   ]
  },
  {
   "cell_type": "code",
   "execution_count": 5,
   "metadata": {},
   "outputs": [
    {
     "name": "stdout",
     "output_type": "stream",
     "text": [
      "   userId  movieId  rating  timestamps  category  gender  age\n",
      "0       0     1192       1   978300760      30.0       0    0\n",
      "1       0      660       0   978302109     239.0       0    0\n",
      "2       0      913       0   978301968     136.0       0    0\n",
      "3       0     3407       1   978300275     276.0       0    0\n",
      "4       0     2354       1   978824291     176.0       0    0\n",
      "5       0     1196       0   978302268      77.0       0    0\n",
      "6       0     1286       1   978302039     258.0       0    0\n",
      "7       0     2803       1   978300719      65.0       0    0\n",
      "8       0      593       1   978302268     207.0       0    0\n",
      "9       0      918       1   978301368     270.0       0    0\n"
     ]
    }
   ],
   "source": [
    "# For Rating\n",
    "ratings['userId'] = ratings['userId'] -1\n",
    "ratings['movieId'] = ratings['movieId'] -1\n",
    "\n",
    "ratings=ratings.join(movie_data.set_index('movieId'),on='movieId')\n",
    "ratings=ratings.join(user_data.set_index('userId'), on='userId')\n",
    "\n",
    "ratings.loc[ratings['rating'] <= 3, 'rating'] = 0\n",
    "ratings.loc[ratings['rating'] > 3, 'rating'] = 1\n",
    "\n",
    "print(ratings[:10])"
   ]
  },
  {
   "cell_type": "code",
   "execution_count": 6,
   "metadata": {},
   "outputs": [
    {
     "name": "stdout",
     "output_type": "stream",
     "text": [
      "797758 102759 99692\n",
      "791662 100931 98791\n"
     ]
    }
   ],
   "source": [
    "# Seperate train\\val\\test set.\n",
    "\n",
    "train_set, val_set, test_set = [], [], []\n",
    "\n",
    "ratings.sort_values(by=['userId', 'timestamps'], inplace=True)\n",
    "# ratings.drop(columns = 'timestamps', inplace = True)\n",
    "\n",
    "for user_id in ratings['userId'].unique():\n",
    "    user_datas = ratings[ratings['userId'] == user_id]\n",
    "    # Nothing Change : (\n",
    "    # train, temp = train_test_split(user_data, train_size=0.8, random_state=10)\n",
    "    # val, test = train_test_split(temp, train_size=0.5, random_state=10)\n",
    "    \n",
    "    total_records = len(user_datas)\n",
    "    train_end = int(total_records * 0.8)\n",
    "    val_end = int(total_records * 0.9)\n",
    "    train_set.append(user_datas[:train_end])\n",
    "    val_set.append(user_datas[train_end:val_end])\n",
    "    test_set.append(user_datas[val_end:])\n",
    "    \n",
    "train_set = pd.concat(train_set)\n",
    "val_set = pd.concat(val_set)\n",
    "test_set = pd.concat(test_set)\n",
    "print(len(train_set), len(test_set), len(val_set))\n",
    "\n",
    "train_set = train_set.dropna()\n",
    "val_set = val_set.dropna()\n",
    "test_set = test_set.dropna()\n",
    "\n",
    "print(len(train_set), len(test_set), len(val_set))\n",
    "\n"
   ]
  },
  {
   "cell_type": "code",
   "execution_count": 7,
   "metadata": {},
   "outputs": [],
   "source": [
    "# Save Data\n",
    "\n",
    "train_set.to_csv('./data/train_set.csv', index=False)  \n",
    "val_set.to_csv('./data/val_set.csv', index=False)  \n",
    "test_set.to_csv('./data/test_set.csv', index=False)  \n",
    "user_data.to_csv('./data/user_features.csv', index=False)  \n",
    "movie_data.to_csv('./data/item_features.csv', index=False)  "
   ]
  }
 ],
 "metadata": {
  "kernelspec": {
   "display_name": "py3.8",
   "language": "python",
   "name": "python3"
  },
  "language_info": {
   "codemirror_mode": {
    "name": "ipython",
    "version": 3
   },
   "file_extension": ".py",
   "mimetype": "text/x-python",
   "name": "python",
   "nbconvert_exporter": "python",
   "pygments_lexer": "ipython3",
   "version": "3.8.16"
  },
  "orig_nbformat": 4
 },
 "nbformat": 4,
 "nbformat_minor": 2
}
